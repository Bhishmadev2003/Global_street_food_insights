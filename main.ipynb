{
 "cells": [
  {
   "cell_type": "code",
   "execution_count": 1,
   "id": "97c780b9",
   "metadata": {},
   "outputs": [],
   "source": [
    "import pandas as pd"
   ]
  },
  {
   "cell_type": "code",
   "execution_count": 2,
   "id": "d31f6aa7",
   "metadata": {},
   "outputs": [],
   "source": [
    "df = pd.read_csv(\"global_street_food_insights.csv\")"
   ]
  },
  {
   "cell_type": "code",
   "execution_count": 3,
   "id": "5ad7d46d",
   "metadata": {},
   "outputs": [
    {
     "data": {
      "text/plain": [
       "(4500, 8)"
      ]
     },
     "execution_count": 3,
     "metadata": {},
     "output_type": "execute_result"
    }
   ],
   "source": [
    "df.shape"
   ]
  },
  {
   "cell_type": "code",
   "execution_count": 4,
   "id": "975328fe",
   "metadata": {},
   "outputs": [
    {
     "name": "stdout",
     "output_type": "stream",
     "text": [
      "<class 'pandas.core.frame.DataFrame'>\n",
      "RangeIndex: 4500 entries, 0 to 4499\n",
      "Data columns (total 8 columns):\n",
      " #   Column               Non-Null Count  Dtype  \n",
      "---  ------               --------------  -----  \n",
      " 0   Dish Name            4500 non-null   object \n",
      " 1   Country              4500 non-null   object \n",
      " 2   Region/City          4500 non-null   object \n",
      " 3   Ingredients          4500 non-null   object \n",
      " 4   Description          4500 non-null   object \n",
      " 5   Cooking Method       4500 non-null   object \n",
      " 6   Typical Price (USD)  4500 non-null   float64\n",
      " 7   Vegetarian           4500 non-null   object \n",
      "dtypes: float64(1), object(7)\n",
      "memory usage: 281.4+ KB\n"
     ]
    }
   ],
   "source": [
    "df.info()"
   ]
  },
  {
   "cell_type": "code",
   "execution_count": 5,
   "id": "3c7668c2",
   "metadata": {},
   "outputs": [
    {
     "data": {
      "text/html": [
       "<div>\n",
       "<style scoped>\n",
       "    .dataframe tbody tr th:only-of-type {\n",
       "        vertical-align: middle;\n",
       "    }\n",
       "\n",
       "    .dataframe tbody tr th {\n",
       "        vertical-align: top;\n",
       "    }\n",
       "\n",
       "    .dataframe thead th {\n",
       "        text-align: right;\n",
       "    }\n",
       "</style>\n",
       "<table border=\"1\" class=\"dataframe\">\n",
       "  <thead>\n",
       "    <tr style=\"text-align: right;\">\n",
       "      <th></th>\n",
       "      <th>Dish Name</th>\n",
       "      <th>Country</th>\n",
       "      <th>Region/City</th>\n",
       "      <th>Ingredients</th>\n",
       "      <th>Description</th>\n",
       "      <th>Cooking Method</th>\n",
       "      <th>Typical Price (USD)</th>\n",
       "      <th>Vegetarian</th>\n",
       "    </tr>\n",
       "  </thead>\n",
       "  <tbody>\n",
       "    <tr>\n",
       "      <th>0</th>\n",
       "      <td>Takoyaki</td>\n",
       "      <td>Japan</td>\n",
       "      <td>Osaka</td>\n",
       "      <td>Octopus, Flour Batter, Bonito Flakes, Green On...</td>\n",
       "      <td>Crispy and hot, often served with sauces or ch...</td>\n",
       "      <td>Fried</td>\n",
       "      <td>3.28</td>\n",
       "      <td>No</td>\n",
       "    </tr>\n",
       "    <tr>\n",
       "      <th>1</th>\n",
       "      <td>Vada Pav</td>\n",
       "      <td>India</td>\n",
       "      <td>Mumbai</td>\n",
       "      <td>Potato, Spices, Bread Bun, Chutney</td>\n",
       "      <td>Crispy and hot, often served with sauces or ch...</td>\n",
       "      <td>Fried</td>\n",
       "      <td>2.37</td>\n",
       "      <td>Yes</td>\n",
       "    </tr>\n",
       "    <tr>\n",
       "      <th>2</th>\n",
       "      <td>Funnel Cake</td>\n",
       "      <td>USA</td>\n",
       "      <td>Texas</td>\n",
       "      <td>Batter, Sugar, Oil</td>\n",
       "      <td>Crispy and hot, often served with sauces or ch...</td>\n",
       "      <td>Fried</td>\n",
       "      <td>2.78</td>\n",
       "      <td>Yes</td>\n",
       "    </tr>\n",
       "    <tr>\n",
       "      <th>3</th>\n",
       "      <td>Kathi Roll</td>\n",
       "      <td>India</td>\n",
       "      <td>Kolkata</td>\n",
       "      <td>Flatbread, Egg, Chicken, Onions, Chutney</td>\n",
       "      <td>Charred to perfection with a smoky flavor.</td>\n",
       "      <td>Grilled</td>\n",
       "      <td>1.89</td>\n",
       "      <td>No</td>\n",
       "    </tr>\n",
       "    <tr>\n",
       "      <th>4</th>\n",
       "      <td>Pad Thai</td>\n",
       "      <td>Thailand</td>\n",
       "      <td>Bangkok</td>\n",
       "      <td>Rice Noodles, Tofu, Eggs, Peanuts, Bean Sprouts</td>\n",
       "      <td>Quickly tossed in a hot pan with bold flavors.</td>\n",
       "      <td>Stir-Fried</td>\n",
       "      <td>3.48</td>\n",
       "      <td>Yes</td>\n",
       "    </tr>\n",
       "  </tbody>\n",
       "</table>\n",
       "</div>"
      ],
      "text/plain": [
       "     Dish Name   Country Region/City  \\\n",
       "0     Takoyaki     Japan       Osaka   \n",
       "1     Vada Pav     India      Mumbai   \n",
       "2  Funnel Cake       USA       Texas   \n",
       "3   Kathi Roll     India     Kolkata   \n",
       "4     Pad Thai  Thailand     Bangkok   \n",
       "\n",
       "                                         Ingredients  \\\n",
       "0  Octopus, Flour Batter, Bonito Flakes, Green On...   \n",
       "1                 Potato, Spices, Bread Bun, Chutney   \n",
       "2                                 Batter, Sugar, Oil   \n",
       "3           Flatbread, Egg, Chicken, Onions, Chutney   \n",
       "4    Rice Noodles, Tofu, Eggs, Peanuts, Bean Sprouts   \n",
       "\n",
       "                                         Description Cooking Method  \\\n",
       "0  Crispy and hot, often served with sauces or ch...          Fried   \n",
       "1  Crispy and hot, often served with sauces or ch...          Fried   \n",
       "2  Crispy and hot, often served with sauces or ch...          Fried   \n",
       "3         Charred to perfection with a smoky flavor.        Grilled   \n",
       "4     Quickly tossed in a hot pan with bold flavors.     Stir-Fried   \n",
       "\n",
       "   Typical Price (USD) Vegetarian  \n",
       "0                 3.28         No  \n",
       "1                 2.37        Yes  \n",
       "2                 2.78        Yes  \n",
       "3                 1.89         No  \n",
       "4                 3.48        Yes  "
      ]
     },
     "execution_count": 5,
     "metadata": {},
     "output_type": "execute_result"
    }
   ],
   "source": [
    "df.head()"
   ]
  },
  {
   "cell_type": "code",
   "execution_count": 6,
   "id": "941dd11e",
   "metadata": {},
   "outputs": [
    {
     "data": {
      "text/html": [
       "<div>\n",
       "<style scoped>\n",
       "    .dataframe tbody tr th:only-of-type {\n",
       "        vertical-align: middle;\n",
       "    }\n",
       "\n",
       "    .dataframe tbody tr th {\n",
       "        vertical-align: top;\n",
       "    }\n",
       "\n",
       "    .dataframe thead th {\n",
       "        text-align: right;\n",
       "    }\n",
       "</style>\n",
       "<table border=\"1\" class=\"dataframe\">\n",
       "  <thead>\n",
       "    <tr style=\"text-align: right;\">\n",
       "      <th></th>\n",
       "      <th>Dish Name</th>\n",
       "      <th>Country</th>\n",
       "      <th>Region/City</th>\n",
       "      <th>Ingredients</th>\n",
       "      <th>Description</th>\n",
       "      <th>Cooking Method</th>\n",
       "      <th>Typical Price (USD)</th>\n",
       "      <th>Vegetarian</th>\n",
       "    </tr>\n",
       "  </thead>\n",
       "  <tbody>\n",
       "    <tr>\n",
       "      <th>4495</th>\n",
       "      <td>Koshari</td>\n",
       "      <td>Egypt</td>\n",
       "      <td>Cairo</td>\n",
       "      <td>Lentils, Rice, Pasta, Tomato Sauce, Onions</td>\n",
       "      <td>A hearty mix of grains topped with spicy tomat...</td>\n",
       "      <td>Boiled</td>\n",
       "      <td>2.8</td>\n",
       "      <td>Yes</td>\n",
       "    </tr>\n",
       "    <tr>\n",
       "      <th>4496</th>\n",
       "      <td>Koshari</td>\n",
       "      <td>Egypt</td>\n",
       "      <td>Cairo</td>\n",
       "      <td>Lentils, Rice, Pasta, Tomato Sauce, Onions</td>\n",
       "      <td>A hearty mix of grains topped with spicy tomat...</td>\n",
       "      <td>Boiled</td>\n",
       "      <td>2.8</td>\n",
       "      <td>Yes</td>\n",
       "    </tr>\n",
       "    <tr>\n",
       "      <th>4497</th>\n",
       "      <td>Koshari</td>\n",
       "      <td>Egypt</td>\n",
       "      <td>Cairo</td>\n",
       "      <td>Lentils, Rice, Pasta, Tomato Sauce, Onions</td>\n",
       "      <td>A hearty mix of grains topped with spicy tomat...</td>\n",
       "      <td>Boiled</td>\n",
       "      <td>2.8</td>\n",
       "      <td>Yes</td>\n",
       "    </tr>\n",
       "    <tr>\n",
       "      <th>4498</th>\n",
       "      <td>Koshari</td>\n",
       "      <td>Egypt</td>\n",
       "      <td>Cairo</td>\n",
       "      <td>Lentils, Rice, Pasta, Tomato Sauce, Onions</td>\n",
       "      <td>A hearty mix of grains topped with spicy tomat...</td>\n",
       "      <td>Boiled</td>\n",
       "      <td>2.8</td>\n",
       "      <td>Yes</td>\n",
       "    </tr>\n",
       "    <tr>\n",
       "      <th>4499</th>\n",
       "      <td>Suya</td>\n",
       "      <td>Nigeria</td>\n",
       "      <td>Lagos</td>\n",
       "      <td>Beef, Spices, Skewers</td>\n",
       "      <td>Spicy meat skewers grilled to perfection.</td>\n",
       "      <td>Grilled</td>\n",
       "      <td>2.5</td>\n",
       "      <td>No</td>\n",
       "    </tr>\n",
       "  </tbody>\n",
       "</table>\n",
       "</div>"
      ],
      "text/plain": [
       "     Dish Name  Country Region/City  \\\n",
       "4495   Koshari    Egypt       Cairo   \n",
       "4496   Koshari    Egypt       Cairo   \n",
       "4497   Koshari    Egypt       Cairo   \n",
       "4498   Koshari    Egypt       Cairo   \n",
       "4499      Suya  Nigeria       Lagos   \n",
       "\n",
       "                                     Ingredients  \\\n",
       "4495  Lentils, Rice, Pasta, Tomato Sauce, Onions   \n",
       "4496  Lentils, Rice, Pasta, Tomato Sauce, Onions   \n",
       "4497  Lentils, Rice, Pasta, Tomato Sauce, Onions   \n",
       "4498  Lentils, Rice, Pasta, Tomato Sauce, Onions   \n",
       "4499                       Beef, Spices, Skewers   \n",
       "\n",
       "                                            Description Cooking Method  \\\n",
       "4495  A hearty mix of grains topped with spicy tomat...         Boiled   \n",
       "4496  A hearty mix of grains topped with spicy tomat...         Boiled   \n",
       "4497  A hearty mix of grains topped with spicy tomat...         Boiled   \n",
       "4498  A hearty mix of grains topped with spicy tomat...         Boiled   \n",
       "4499          Spicy meat skewers grilled to perfection.        Grilled   \n",
       "\n",
       "      Typical Price (USD) Vegetarian  \n",
       "4495                  2.8        Yes  \n",
       "4496                  2.8        Yes  \n",
       "4497                  2.8        Yes  \n",
       "4498                  2.8        Yes  \n",
       "4499                  2.5         No  "
      ]
     },
     "execution_count": 6,
     "metadata": {},
     "output_type": "execute_result"
    }
   ],
   "source": [
    "df.tail()"
   ]
  },
  {
   "cell_type": "code",
   "execution_count": 7,
   "id": "fc2a2dcc",
   "metadata": {},
   "outputs": [
    {
     "data": {
      "text/plain": [
       "Index(['Dish Name', 'Country', 'Region/City', 'Ingredients', 'Description',\n",
       "       'Cooking Method', 'Typical Price (USD)', 'Vegetarian'],\n",
       "      dtype='object')"
      ]
     },
     "execution_count": 7,
     "metadata": {},
     "output_type": "execute_result"
    }
   ],
   "source": [
    "df.columns"
   ]
  },
  {
   "cell_type": "code",
   "execution_count": 8,
   "id": "f0bd7876",
   "metadata": {},
   "outputs": [],
   "source": [
    "df = df.rename(columns={'Dish Name': 'Dish_Name', 'Cooking Method': 'Cooking_Method', 'Typical Price (USD)': 'Typical_Price'})"
   ]
  },
  {
   "cell_type": "code",
   "execution_count": 9,
   "id": "49c3e88c",
   "metadata": {},
   "outputs": [
    {
     "data": {
      "text/plain": [
       "Index(['Dish_Name', 'Country', 'Region/City', 'Ingredients', 'Description',\n",
       "       'Cooking_Method', 'Typical_Price', 'Vegetarian'],\n",
       "      dtype='object')"
      ]
     },
     "execution_count": 9,
     "metadata": {},
     "output_type": "execute_result"
    }
   ],
   "source": [
    "df.columns"
   ]
  },
  {
   "cell_type": "code",
   "execution_count": 10,
   "id": "702aeb49",
   "metadata": {},
   "outputs": [
    {
     "name": "stdout",
     "output_type": "stream",
     "text": [
      "<class 'pandas.core.frame.DataFrame'>\n",
      "RangeIndex: 4500 entries, 0 to 4499\n",
      "Data columns (total 8 columns):\n",
      " #   Column          Non-Null Count  Dtype  \n",
      "---  ------          --------------  -----  \n",
      " 0   Dish_Name       4500 non-null   object \n",
      " 1   Country         4500 non-null   object \n",
      " 2   Region/City     4500 non-null   object \n",
      " 3   Ingredients     4500 non-null   object \n",
      " 4   Description     4500 non-null   object \n",
      " 5   Cooking_Method  4500 non-null   object \n",
      " 6   Typical_Price   4500 non-null   float64\n",
      " 7   Vegetarian      4500 non-null   object \n",
      "dtypes: float64(1), object(7)\n",
      "memory usage: 281.4+ KB\n"
     ]
    }
   ],
   "source": [
    "df.info()"
   ]
  },
  {
   "cell_type": "code",
   "execution_count": 11,
   "id": "29374872",
   "metadata": {},
   "outputs": [
    {
     "data": {
      "text/plain": [
       "np.int64(1288)"
      ]
     },
     "execution_count": 11,
     "metadata": {},
     "output_type": "execute_result"
    }
   ],
   "source": [
    "df.duplicated().sum()"
   ]
  },
  {
   "cell_type": "code",
   "execution_count": 12,
   "id": "7aa78e15",
   "metadata": {},
   "outputs": [],
   "source": [
    "df.drop_duplicates(inplace=True)"
   ]
  },
  {
   "cell_type": "code",
   "execution_count": 13,
   "metadata": {},
   "outputs": [
    {
     "data": {
      "text/plain": [
       "np.int64(0)"
      ]
     },
     "execution_count": 13,
     "metadata": {},
     "output_type": "execute_result"
    }
   ],
   "source": [
    "df.duplicated().sum()"
   ]
  },
  {
   "cell_type": "code",
   "execution_count": 14,
   "id": "5686d1fb",
   "metadata": {},
   "outputs": [
    {
     "data": {
      "text/plain": [
       "(3212, 8)"
      ]
     },
     "execution_count": 14,
     "metadata": {},
     "output_type": "execute_result"
    }
   ],
   "source": [
    "df.shape"
   ]
  },
  {
   "cell_type": "code",
   "execution_count": 15,
   "id": "9df312fe",
   "metadata": {},
   "outputs": [
    {
     "data": {
      "text/plain": [
       "Dish_Name         0\n",
       "Country           0\n",
       "Region/City       0\n",
       "Ingredients       0\n",
       "Description       0\n",
       "Cooking_Method    0\n",
       "Typical_Price     0\n",
       "Vegetarian        0\n",
       "dtype: int64"
      ]
     },
     "execution_count": 15,
     "metadata": {},
     "output_type": "execute_result"
    }
   ],
   "source": [
    "df.isnull().sum()"
   ]
  },
  {
   "cell_type": "code",
   "execution_count": 16,
   "id": "3ba80bfb",
   "metadata": {},
   "outputs": [
    {
     "data": {
      "text/html": [
       "<div>\n",
       "<style scoped>\n",
       "    .dataframe tbody tr th:only-of-type {\n",
       "        vertical-align: middle;\n",
       "    }\n",
       "\n",
       "    .dataframe tbody tr th {\n",
       "        vertical-align: top;\n",
       "    }\n",
       "\n",
       "    .dataframe thead th {\n",
       "        text-align: right;\n",
       "    }\n",
       "</style>\n",
       "<table border=\"1\" class=\"dataframe\">\n",
       "  <thead>\n",
       "    <tr style=\"text-align: right;\">\n",
       "      <th></th>\n",
       "      <th>Typical_Price</th>\n",
       "    </tr>\n",
       "  </thead>\n",
       "  <tbody>\n",
       "    <tr>\n",
       "      <th>count</th>\n",
       "      <td>3212.000000</td>\n",
       "    </tr>\n",
       "    <tr>\n",
       "      <th>mean</th>\n",
       "      <td>2.581208</td>\n",
       "    </tr>\n",
       "    <tr>\n",
       "      <th>std</th>\n",
       "      <td>1.386575</td>\n",
       "    </tr>\n",
       "    <tr>\n",
       "      <th>min</th>\n",
       "      <td>0.200000</td>\n",
       "    </tr>\n",
       "    <tr>\n",
       "      <th>25%</th>\n",
       "      <td>1.360000</td>\n",
       "    </tr>\n",
       "    <tr>\n",
       "      <th>50%</th>\n",
       "      <td>2.570000</td>\n",
       "    </tr>\n",
       "    <tr>\n",
       "      <th>75%</th>\n",
       "      <td>3.780000</td>\n",
       "    </tr>\n",
       "    <tr>\n",
       "      <th>max</th>\n",
       "      <td>5.000000</td>\n",
       "    </tr>\n",
       "  </tbody>\n",
       "</table>\n",
       "</div>"
      ],
      "text/plain": [
       "       Typical_Price\n",
       "count    3212.000000\n",
       "mean        2.581208\n",
       "std         1.386575\n",
       "min         0.200000\n",
       "25%         1.360000\n",
       "50%         2.570000\n",
       "75%         3.780000\n",
       "max         5.000000"
      ]
     },
     "execution_count": 16,
     "metadata": {},
     "output_type": "execute_result"
    }
   ],
   "source": [
    "df.describe()"
   ]
  },
  {
   "cell_type": "code",
   "execution_count": 17,
   "id": "b4577787",
   "metadata": {},
   "outputs": [],
   "source": [
    "df.to_csv(\"global_street_food_insights_updated.csv\",index=False)"
   ]
  }
 ],
 "metadata": {
  "kernelspec": {
   "display_name": "Python 3",
   "language": "python",
   "name": "python3"
  },
  "language_info": {
   "codemirror_mode": {
    "name": "ipython",
    "version": 3
   },
   "file_extension": ".py",
   "mimetype": "text/x-python",
   "name": "python",
   "nbconvert_exporter": "python",
   "pygments_lexer": "ipython3",
   "version": "3.13.2"
  }
 },
 "nbformat": 4,
 "nbformat_minor": 5
}
